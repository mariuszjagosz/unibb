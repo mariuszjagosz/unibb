{
 "cells": [
  {
   "cell_type": "code",
   "execution_count": null,
   "id": "b0e79497",
   "metadata": {},
   "outputs": [],
   "source": [
    "import pandas as pd"
   ]
  },
  {
   "cell_type": "code",
   "execution_count": null,
   "id": "b9a071cf",
   "metadata": {},
   "outputs": [],
   "source": [
    "data = {'Country': ['USA', 'UK', 'Germany'],\n",
    "        'Population': [331, 67, 83],\n",
    "        'GDP': [21.43, 2.83, 3.86]}\n",
    "df_dict = pd.DataFrame(data)\n",
    "print(df_dict)"
   ]
  },
  {
   "cell_type": "code",
   "execution_count": null,
   "id": "3d9aa9eb",
   "metadata": {},
   "outputs": [],
   "source": [
    "df_dict.to_csv(\"countries.csv\")"
   ]
  },
  {
   "cell_type": "code",
   "execution_count": null,
   "id": "af88a711",
   "metadata": {},
   "outputs": [],
   "source": [
    "lists_uni = [[\"AGH\", \"UBB\", \"UW\"], \n",
    "[\"Kraków\",   \"Bielsko-Biała\", \"Warszawa\"]]\n",
    "\n",
    "pd.DataFrame(lists_uni) "
   ]
  },
  {
   "cell_type": "code",
   "execution_count": null,
   "id": "08c9cd71",
   "metadata": {},
   "outputs": [],
   "source": [
    "pd.DataFrame(lists_uni).T"
   ]
  },
  {
   "cell_type": "code",
   "execution_count": null,
   "id": "e9f1a372",
   "metadata": {},
   "outputs": [],
   "source": [
    "file_path = 'IHME_DAH_DATABASE_1990_2020_Y2021M09D22.CSV'\n",
    "chunksize = 100000 \n",
    "df_csv = pd.concat(pd.read_csv(file_path, chunksize=chunksize, encoding=\"utf-8\", low_memory=False))"
   ]
  },
  {
   "cell_type": "code",
   "execution_count": null,
   "id": "c7fb22f5",
   "metadata": {},
   "outputs": [],
   "source": [
    "df_csv.head(10)"
   ]
  },
  {
   "cell_type": "code",
   "execution_count": null,
   "id": "4717d1fd",
   "metadata": {},
   "outputs": [],
   "source": [
    "df_csv.tail(10)"
   ]
  },
  {
   "cell_type": "code",
   "execution_count": null,
   "id": "5a19091e",
   "metadata": {},
   "outputs": [],
   "source": [
    "df_csv.info()"
   ]
  },
  {
   "cell_type": "code",
   "execution_count": null,
   "id": "481bc17c",
   "metadata": {},
   "outputs": [],
   "source": [
    "# Here we can see that the columns 14-75 are the 'object' type when in reality they contain numerical valuse, that's why we will change it here:\n",
    "cols_to_convert = df_csv.columns[14:]\n",
    "df_csv[cols_to_convert] = df_csv[cols_to_convert].apply(pd.to_numeric, errors='coerce')"
   ]
  },
  {
   "cell_type": "code",
   "execution_count": null,
   "id": "776d548e",
   "metadata": {},
   "outputs": [],
   "source": [
    "df_csv.info()"
   ]
  },
  {
   "cell_type": "code",
   "execution_count": null,
   "id": "df3e308e",
   "metadata": {},
   "outputs": [],
   "source": [
    "df_csv.shape"
   ]
  },
  {
   "cell_type": "code",
   "execution_count": null,
   "id": "fe143555",
   "metadata": {},
   "outputs": [],
   "source": [
    "df_csv.describe()"
   ]
  },
  {
   "cell_type": "code",
   "execution_count": null,
   "id": "dca219b4",
   "metadata": {},
   "outputs": [],
   "source": [
    "df_csv.describe(include='object')"
   ]
  },
  {
   "cell_type": "code",
   "execution_count": null,
   "id": "938a9f0a",
   "metadata": {},
   "outputs": [],
   "source": [
    "df_csv.describe(include='all')"
   ]
  },
  {
   "cell_type": "code",
   "execution_count": null,
   "id": "0efd9bdc",
   "metadata": {},
   "outputs": [],
   "source": [
    "df_csv = df_csv.dropna().reset_index(drop=True)"
   ]
  },
  {
   "cell_type": "code",
   "execution_count": null,
   "id": "b8ee2f13",
   "metadata": {},
   "outputs": [],
   "source": [
    "df_csv.head(100)"
   ]
  },
  {
   "cell_type": "code",
   "execution_count": null,
   "id": "50a65680",
   "metadata": {},
   "outputs": [],
   "source": [
    "df_csv[\"recipient_country\"]"
   ]
  },
  {
   "cell_type": "code",
   "execution_count": null,
   "id": "300c5ddf",
   "metadata": {},
   "outputs": [],
   "source": [
    "df_csv.recipient_country"
   ]
  },
  {
   "cell_type": "code",
   "execution_count": null,
   "id": "fa826df9",
   "metadata": {},
   "outputs": [],
   "source": [
    "df_csv[[\"recipient_country\", \"gbd_location_id\", \"wb_regioncode\"]]"
   ]
  },
  {
   "cell_type": "code",
   "execution_count": null,
   "id": "d853b5ae",
   "metadata": {},
   "outputs": [],
   "source": [
    "df_csv.loc[:, \"year\":\"recipient_country\"]"
   ]
  },
  {
   "cell_type": "code",
   "execution_count": null,
   "id": "30fa016d",
   "metadata": {},
   "outputs": [],
   "source": [
    "df_csv.loc[1000:1500, \"year\":\"recipient_country\"]"
   ]
  },
  {
   "cell_type": "code",
   "execution_count": null,
   "id": "2cee5cba",
   "metadata": {},
   "outputs": [],
   "source": [
    "df_csv.iloc[1000:1500, 0:4]"
   ]
  },
  {
   "cell_type": "code",
   "execution_count": null,
   "id": "107486da",
   "metadata": {},
   "outputs": [],
   "source": [
    "df_csv[df_csv[\"recipient_country\"] == \"China\"]"
   ]
  },
  {
   "cell_type": "code",
   "execution_count": null,
   "id": "8e1103c1",
   "metadata": {},
   "outputs": [],
   "source": [
    "df_csv[(df_csv[\"recipient_country\"] == \"China\") & (df_csv[\"source\"] == \"United_States\")]"
   ]
  },
  {
   "cell_type": "code",
   "execution_count": null,
   "id": "7962865f",
   "metadata": {},
   "outputs": [],
   "source": [
    "df_csv[df_csv[\"recipient_country\"].str.contains(\"Republic\")]"
   ]
  },
  {
   "cell_type": "code",
   "execution_count": null,
   "id": "f6a4ea60",
   "metadata": {
    "scrolled": true
   },
   "outputs": [],
   "source": [
    "df_csv[df_csv[\"recipient_country\"].str.contains(\"Republic\")== False]"
   ]
  },
  {
   "cell_type": "code",
   "execution_count": null,
   "id": "96b01359",
   "metadata": {},
   "outputs": [],
   "source": [
    "df_csv['total_diag_dah'] = df_csv[['mal_diag_dah_20', 'tb_diag_dah_20']].sum(axis=1)"
   ]
  },
  {
   "cell_type": "code",
   "execution_count": null,
   "id": "520c7005",
   "metadata": {},
   "outputs": [],
   "source": [
    "df_csv['total_diag_dah']"
   ]
  },
  {
   "cell_type": "code",
   "execution_count": null,
   "id": "c24aaf43",
   "metadata": {},
   "outputs": [],
   "source": [
    "df_csv.drop(\"swap_hss_total_dah_20\", axis=1, inplace = True)"
   ]
  },
  {
   "cell_type": "code",
   "execution_count": null,
   "id": "d463d004",
   "metadata": {},
   "outputs": [],
   "source": [
    "df_csv.rename(columns = {\"source\": \"source_country\"}, inplace = True)\n",
    "df_csv"
   ]
  },
  {
   "cell_type": "code",
   "execution_count": null,
   "id": "895cdcd5",
   "metadata": {},
   "outputs": [],
   "source": [
    "df_csv.to_csv(\"ihme_dah_database.csv\")"
   ]
  },
  {
   "cell_type": "code",
   "execution_count": null,
   "id": "3b08b7e5",
   "metadata": {},
   "outputs": [],
   "source": [
    "df_csv[\"dah_20\"].mean()"
   ]
  },
  {
   "cell_type": "code",
   "execution_count": null,
   "id": "37d21b3f",
   "metadata": {},
   "outputs": [],
   "source": [
    "df_csv[\"dah_20\"].max()"
   ]
  },
  {
   "cell_type": "code",
   "execution_count": null,
   "id": "de7e53fb",
   "metadata": {},
   "outputs": [],
   "source": [
    "df_csv[\"dah_20\"].min()"
   ]
  },
  {
   "cell_type": "code",
   "execution_count": null,
   "id": "3788b32f",
   "metadata": {},
   "outputs": [],
   "source": [
    "df_csv.shape[0]"
   ]
  },
  {
   "cell_type": "code",
   "execution_count": null,
   "id": "3b9d3a05",
   "metadata": {},
   "outputs": [],
   "source": [
    "df_csv['source_country'].unique()"
   ]
  },
  {
   "cell_type": "code",
   "execution_count": null,
   "id": "59272782",
   "metadata": {},
   "outputs": [],
   "source": [
    "df_csv['source_country'].value_counts()"
   ]
  },
  {
   "cell_type": "code",
   "execution_count": null,
   "id": "769335de",
   "metadata": {},
   "outputs": [],
   "source": [
    "df_csv.sort_values(['year'], ascending = True)"
   ]
  },
  {
   "cell_type": "code",
   "execution_count": null,
   "id": "849db829",
   "metadata": {},
   "outputs": [],
   "source": [
    "df_csv.sort_values(['year'], ascending = False)"
   ]
  },
  {
   "cell_type": "code",
   "execution_count": null,
   "id": "82db9251",
   "metadata": {},
   "outputs": [],
   "source": [
    "df_csv.nlargest(10,'dah_20')"
   ]
  },
  {
   "cell_type": "code",
   "execution_count": null,
   "id": "97cca656",
   "metadata": {},
   "outputs": [],
   "source": [
    "df_csv.nsmallest(10,'dah_20')"
   ]
  },
  {
   "cell_type": "code",
   "execution_count": null,
   "id": "ee544db2",
   "metadata": {},
   "outputs": [],
   "source": [
    "df_csv[df_csv['year'] == 2009].nlargest(10,'dah_20')"
   ]
  },
  {
   "cell_type": "code",
   "execution_count": null,
   "id": "f639766a",
   "metadata": {},
   "outputs": [],
   "source": [
    "df_csv.groupby('recipient_country').mean(numeric_only=True)"
   ]
  },
  {
   "cell_type": "code",
   "execution_count": null,
   "id": "8cd1a8ed",
   "metadata": {},
   "outputs": [],
   "source": [
    "df_country = df_csv.groupby('recipient_country').agg({'year': ['count'],\n",
    "                        'dah_20': ['mean', 'median']})"
   ]
  },
  {
   "cell_type": "code",
   "execution_count": null,
   "id": "2908091e",
   "metadata": {},
   "outputs": [],
   "source": [
    "df_country"
   ]
  },
  {
   "cell_type": "code",
   "execution_count": null,
   "id": "72e92d75",
   "metadata": {},
   "outputs": [],
   "source": [
    "df_country.columns"
   ]
  },
  {
   "cell_type": "code",
   "execution_count": null,
   "id": "e443327a",
   "metadata": {},
   "outputs": [],
   "source": [
    "df_country['dah_20']['mean'].sort_values(ascending = False)"
   ]
  },
  {
   "cell_type": "code",
   "execution_count": null,
   "id": "23bcce8c",
   "metadata": {},
   "outputs": [],
   "source": [
    "df_pivot = df_csv.pivot_table(values='dah_20', index='recipient_country', columns='source_country', aggfunc='mean',\n",
    "                      margins=False, dropna=True, fill_value=None) \n",
    "df_pivot"
   ]
  },
  {
   "cell_type": "code",
   "execution_count": null,
   "id": "fd065ff6",
   "metadata": {},
   "outputs": [],
   "source": [
    "df_pivot.index"
   ]
  },
  {
   "cell_type": "code",
   "execution_count": null,
   "id": "7e43ede3",
   "metadata": {},
   "outputs": [],
   "source": [
    "df_pivot.columns"
   ]
  },
  {
   "cell_type": "code",
   "execution_count": null,
   "id": "d1a0adff",
   "metadata": {},
   "outputs": [],
   "source": [
    "df_pivot = df_csv.pivot_table(values='dah_20', index=['year', 'recipient_country'], columns='source_country', aggfunc='mean',\n",
    "                      margins=False, dropna=True, fill_value=None) "
   ]
  },
  {
   "cell_type": "code",
   "execution_count": null,
   "id": "b1c390e0",
   "metadata": {},
   "outputs": [],
   "source": [
    "df_pivot"
   ]
  },
  {
   "cell_type": "code",
   "execution_count": null,
   "id": "d670a5ff",
   "metadata": {},
   "outputs": [],
   "source": [
    "import matplotlib.pyplot as plt\n",
    "%matplotlib inline "
   ]
  },
  {
   "cell_type": "code",
   "execution_count": null,
   "id": "b68168f3",
   "metadata": {},
   "outputs": [],
   "source": [
    "dah_by_source = df_csv.pivot_table(values='dah_20', index='year', columns='source_country', aggfunc='sum')\n",
    "dah_by_source.plot(kind='line', figsize=(10, 6))\n",
    "plt.ylabel('DAH in Thousands of USD')\n",
    "plt.title('Development Assistance for Health (DAH) by Source (1990-2020)')\n",
    "plt.legend(title='Source of Funding', bbox_to_anchor=(1.05, 1), loc='upper left')\n",
    "plt.show()"
   ]
  },
  {
   "cell_type": "code",
   "execution_count": null,
   "id": "6dc6ed2c",
   "metadata": {},
   "outputs": [],
   "source": [
    "dah_by_source = df_csv[df_csv['source_country'] == 'Australia'].pivot_table(values='dah_20', index='year', columns='source_country', aggfunc='sum')\n",
    "dah_by_source.plot(kind='line', figsize=(10, 6))\n",
    "plt.ylabel('DAH in Thousands of USD')\n",
    "plt.title('Development Assistance for Health (DAH) by Australia (1990-2020)')\n",
    "plt.legend(title='Source of Funding', bbox_to_anchor=(1.05, 1), loc='upper left')\n",
    "plt.show()"
   ]
  },
  {
   "cell_type": "code",
   "execution_count": null,
   "id": "2c4c1575",
   "metadata": {},
   "outputs": [],
   "source": [
    "df_2020 = df_csv[df_csv['year'] == 2010]\n",
    "dah_by_country = df_2020[df_2020['recipient_country'] != 'Global'].groupby('recipient_country')['dah_20'].sum()\n",
    "dah_by_country = dah_by_country.sort_values(ascending=False).head(10)\n",
    "dah_by_country.plot(kind='bar', figsize=(12, 8), color='skyblue')\n",
    "plt.ylabel('DAH in Thousands of 2020 USD')\n",
    "plt.title('Top 10 Recipient Countries by DAH in 2020')\n",
    "plt.xticks(rotation=45, ha='right')\n",
    "plt.tight_layout()\n",
    "plt.show()"
   ]
  },
  {
   "cell_type": "code",
   "execution_count": null,
   "id": "d42d426c",
   "metadata": {},
   "outputs": [],
   "source": [
    "df_csv_2 = pd.read_csv('IHME_DAH_DATABASE_1990_2016_Y2017M04D19.csv', low_memory=False)"
   ]
  },
  {
   "cell_type": "code",
   "execution_count": null,
   "id": "7950d88c",
   "metadata": {},
   "outputs": [],
   "source": [
    "df_csv_2.head()"
   ]
  },
  {
   "cell_type": "code",
   "execution_count": null,
   "id": "bc915bda",
   "metadata": {},
   "outputs": [],
   "source": [
    "df_csv_2.rename(columns = {\"source\": \"source_country\"}, inplace = True)\n",
    "df_csv_2"
   ]
  },
  {
   "cell_type": "code",
   "execution_count": null,
   "id": "57103772",
   "metadata": {},
   "outputs": [],
   "source": [
    "#I had to reduce the datasets, because trying to merge the whole datasets resulted in Memory Error\n",
    "df_csv_red = df_csv[df_csv['year'].isin([2001, 2002, 2003])]\n",
    "df_csv_2_red = df_csv_2[df_csv_2['year'].isin([2001, 2002, 2003])]\n",
    "\n",
    "df_all = pd.merge(df_csv_red, df_csv_2_red, on=['year', 'source_country', 'channel', 'recipient_country', 'gbd_region'], how='inner')"
   ]
  },
  {
   "cell_type": "code",
   "execution_count": null,
   "id": "8bd76ab1",
   "metadata": {},
   "outputs": [],
   "source": [
    "df_all.head()"
   ]
  },
  {
   "cell_type": "code",
   "execution_count": null,
   "id": "597273a6",
   "metadata": {},
   "outputs": [],
   "source": [
    "df_all.shape"
   ]
  },
  {
   "cell_type": "code",
   "execution_count": null,
   "id": "ffbf6568",
   "metadata": {},
   "outputs": [],
   "source": [
    "df_all_1 = df_all.iloc[:14000,:]\n",
    "df_all_2 = df_all.iloc[14000:,:]"
   ]
  },
  {
   "cell_type": "code",
   "execution_count": null,
   "id": "93ed229e",
   "metadata": {},
   "outputs": [],
   "source": [
    "df_all_new = pd.concat([df_all_1, df_all_2], axis = 0)\n",
    "df_all_new.shape "
   ]
  },
  {
   "cell_type": "code",
   "execution_count": null,
   "id": "60a868a2",
   "metadata": {},
   "outputs": [],
   "source": [
    "print(df_csv.columns)"
   ]
  },
  {
   "cell_type": "code",
   "execution_count": null,
   "id": "f16cdd50",
   "metadata": {},
   "outputs": [],
   "source": [
    "df_csv['other_diseases_dah_20'] = ( df_csv['oid_other_dah_20'] + df_csv['tb_other_dah_20'] + df_csv['mal_other_dah_20'] + df_csv['hiv_other_dah_20'] + df_csv['ncd_other_dah_20'])"
   ]
  },
  {
   "cell_type": "code",
   "execution_count": null,
   "id": "ec193578",
   "metadata": {},
   "outputs": [],
   "source": [
    "df_csv[\"dah_20_round\"] = df_csv[\"dah_20\"].round(decimals = 2) "
   ]
  },
  {
   "cell_type": "code",
   "execution_count": null,
   "id": "3bec4371",
   "metadata": {},
   "outputs": [],
   "source": [
    "Years = [2000, 2005, 2010]"
   ]
  },
  {
   "cell_type": "code",
   "execution_count": null,
   "id": "6943031d",
   "metadata": {},
   "outputs": [],
   "source": [
    "df_csv['Years_2000_2005_2010'] = df_csv['year'].apply(lambda x: x in Years)\n",
    "df_csv[df_csv['Years_2000_2005_2010'] == True]"
   ]
  },
  {
   "cell_type": "code",
   "execution_count": null,
   "id": "956a95eb",
   "metadata": {},
   "outputs": [],
   "source": [
    "for chunk_df in pd.read_csv('IHME_DAH_DATABASE_1990_2020_Y2021M09D22.CSV', \n",
    "                      chunksize = 50000):\n",
    "    print(\"CHUNK DF\")\n",
    "    print(chunk_df.head())"
   ]
  },
  {
   "cell_type": "code",
   "execution_count": null,
   "id": "e8bdb2f6",
   "metadata": {},
   "outputs": [],
   "source": [
    "new_df = pd.DataFrame()\n",
    "for chunk_df in pd.read_csv('IHME_DAH_DATABASE_1990_2020_Y2021M09D22.CSV', \n",
    "                      chunksize = 50000):\n",
    "    chunk_df['dah_20'] = pd.to_numeric(chunk_df['dah_20'], errors='coerce')\n",
    "    result = chunk_df.groupby('recipient_country').agg({'year': ['count'],\n",
    "                        'dah_20': ['mean', 'median']})\n",
    "    new_df = pd.concat([new_df,result])"
   ]
  },
  {
   "cell_type": "code",
   "execution_count": null,
   "id": "2eb74ec3",
   "metadata": {},
   "outputs": [],
   "source": [
    "new_df"
   ]
  },
  {
   "cell_type": "code",
   "execution_count": null,
   "id": "32f92033",
   "metadata": {},
   "outputs": [],
   "source": []
  }
 ],
 "metadata": {
  "kernelspec": {
   "display_name": "Python 3 (ipykernel)",
   "language": "python",
   "name": "python3"
  },
  "language_info": {
   "codemirror_mode": {
    "name": "ipython",
    "version": 3
   },
   "file_extension": ".py",
   "mimetype": "text/x-python",
   "name": "python",
   "nbconvert_exporter": "python",
   "pygments_lexer": "ipython3",
   "version": "3.10.9"
  }
 },
 "nbformat": 4,
 "nbformat_minor": 5
}
